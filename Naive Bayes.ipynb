{
 "cells": [
  {
   "cell_type": "code",
   "execution_count": 69,
   "metadata": {},
   "outputs": [],
   "source": [
    "import pandas as pd\n",
    "import numpy as np\n",
    "emails_subject = pd.read_csv('./emails/dbworld_subjects_stemmed.csv').iloc[:,1:]\n",
    "emails_body = pd.read_csv('./emails/dbworld_bodies_stemmed.csv').iloc[:,1:]"
   ]
  },
  {
   "cell_type": "code",
   "execution_count": 23,
   "metadata": {},
   "outputs": [
    {
     "data": {
      "text/html": [
       "<div>\n",
       "<style scoped>\n",
       "    .dataframe tbody tr th:only-of-type {\n",
       "        vertical-align: middle;\n",
       "    }\n",
       "\n",
       "    .dataframe tbody tr th {\n",
       "        vertical-align: top;\n",
       "    }\n",
       "\n",
       "    .dataframe thead th {\n",
       "        text-align: right;\n",
       "    }\n",
       "</style>\n",
       "<table border=\"1\" class=\"dataframe\">\n",
       "  <thead>\n",
       "    <tr style=\"text-align: right;\">\n",
       "      <th></th>\n",
       "      <th>10th</th>\n",
       "      <th>13th</th>\n",
       "      <th>1st</th>\n",
       "      <th>2nd</th>\n",
       "      <th>31st</th>\n",
       "      <th>3rd</th>\n",
       "      <th>5th</th>\n",
       "      <th>6th</th>\n",
       "      <th>abstract</th>\n",
       "      <th>academ</th>\n",
       "      <th>...</th>\n",
       "      <th>vacanc</th>\n",
       "      <th>valencia</th>\n",
       "      <th>vehicular</th>\n",
       "      <th>video</th>\n",
       "      <th>web</th>\n",
       "      <th>wireless</th>\n",
       "      <th>workflow</th>\n",
       "      <th>workshop</th>\n",
       "      <th>zurich</th>\n",
       "      <th>CLASS</th>\n",
       "    </tr>\n",
       "  </thead>\n",
       "  <tbody>\n",
       "    <tr>\n",
       "      <th>0</th>\n",
       "      <td>0</td>\n",
       "      <td>0</td>\n",
       "      <td>0</td>\n",
       "      <td>0</td>\n",
       "      <td>0</td>\n",
       "      <td>0</td>\n",
       "      <td>0</td>\n",
       "      <td>0</td>\n",
       "      <td>0</td>\n",
       "      <td>0</td>\n",
       "      <td>...</td>\n",
       "      <td>0</td>\n",
       "      <td>0</td>\n",
       "      <td>0</td>\n",
       "      <td>0</td>\n",
       "      <td>0</td>\n",
       "      <td>0</td>\n",
       "      <td>0</td>\n",
       "      <td>0</td>\n",
       "      <td>0</td>\n",
       "      <td>0</td>\n",
       "    </tr>\n",
       "    <tr>\n",
       "      <th>1</th>\n",
       "      <td>0</td>\n",
       "      <td>0</td>\n",
       "      <td>0</td>\n",
       "      <td>0</td>\n",
       "      <td>0</td>\n",
       "      <td>0</td>\n",
       "      <td>0</td>\n",
       "      <td>0</td>\n",
       "      <td>0</td>\n",
       "      <td>0</td>\n",
       "      <td>...</td>\n",
       "      <td>0</td>\n",
       "      <td>0</td>\n",
       "      <td>0</td>\n",
       "      <td>0</td>\n",
       "      <td>0</td>\n",
       "      <td>0</td>\n",
       "      <td>0</td>\n",
       "      <td>0</td>\n",
       "      <td>1</td>\n",
       "      <td>0</td>\n",
       "    </tr>\n",
       "    <tr>\n",
       "      <th>2</th>\n",
       "      <td>0</td>\n",
       "      <td>0</td>\n",
       "      <td>0</td>\n",
       "      <td>0</td>\n",
       "      <td>0</td>\n",
       "      <td>0</td>\n",
       "      <td>0</td>\n",
       "      <td>0</td>\n",
       "      <td>0</td>\n",
       "      <td>0</td>\n",
       "      <td>...</td>\n",
       "      <td>0</td>\n",
       "      <td>0</td>\n",
       "      <td>0</td>\n",
       "      <td>0</td>\n",
       "      <td>0</td>\n",
       "      <td>0</td>\n",
       "      <td>0</td>\n",
       "      <td>0</td>\n",
       "      <td>0</td>\n",
       "      <td>0</td>\n",
       "    </tr>\n",
       "    <tr>\n",
       "      <th>3</th>\n",
       "      <td>0</td>\n",
       "      <td>0</td>\n",
       "      <td>0</td>\n",
       "      <td>0</td>\n",
       "      <td>0</td>\n",
       "      <td>0</td>\n",
       "      <td>0</td>\n",
       "      <td>0</td>\n",
       "      <td>0</td>\n",
       "      <td>0</td>\n",
       "      <td>...</td>\n",
       "      <td>1</td>\n",
       "      <td>0</td>\n",
       "      <td>0</td>\n",
       "      <td>1</td>\n",
       "      <td>0</td>\n",
       "      <td>0</td>\n",
       "      <td>0</td>\n",
       "      <td>0</td>\n",
       "      <td>0</td>\n",
       "      <td>0</td>\n",
       "    </tr>\n",
       "    <tr>\n",
       "      <th>4</th>\n",
       "      <td>0</td>\n",
       "      <td>0</td>\n",
       "      <td>0</td>\n",
       "      <td>0</td>\n",
       "      <td>0</td>\n",
       "      <td>0</td>\n",
       "      <td>0</td>\n",
       "      <td>0</td>\n",
       "      <td>0</td>\n",
       "      <td>0</td>\n",
       "      <td>...</td>\n",
       "      <td>0</td>\n",
       "      <td>0</td>\n",
       "      <td>0</td>\n",
       "      <td>0</td>\n",
       "      <td>0</td>\n",
       "      <td>0</td>\n",
       "      <td>0</td>\n",
       "      <td>0</td>\n",
       "      <td>0</td>\n",
       "      <td>0</td>\n",
       "    </tr>\n",
       "  </tbody>\n",
       "</table>\n",
       "<p>5 rows × 230 columns</p>\n",
       "</div>"
      ],
      "text/plain": [
       "   10th  13th  1st  2nd  31st  3rd  5th  6th  abstract  academ  ...    vacanc  \\\n",
       "0     0     0    0    0     0    0    0    0         0       0  ...         0   \n",
       "1     0     0    0    0     0    0    0    0         0       0  ...         0   \n",
       "2     0     0    0    0     0    0    0    0         0       0  ...         0   \n",
       "3     0     0    0    0     0    0    0    0         0       0  ...         1   \n",
       "4     0     0    0    0     0    0    0    0         0       0  ...         0   \n",
       "\n",
       "   valencia  vehicular  video  web  wireless  workflow  workshop  zurich  \\\n",
       "0         0          0      0    0         0         0         0       0   \n",
       "1         0          0      0    0         0         0         0       1   \n",
       "2         0          0      0    0         0         0         0       0   \n",
       "3         0          0      1    0         0         0         0       0   \n",
       "4         0          0      0    0         0         0         0       0   \n",
       "\n",
       "   CLASS  \n",
       "0      0  \n",
       "1      0  \n",
       "2      0  \n",
       "3      0  \n",
       "4      0  \n",
       "\n",
       "[5 rows x 230 columns]"
      ]
     },
     "execution_count": 23,
     "metadata": {},
     "output_type": "execute_result"
    }
   ],
   "source": [
    "emails_subject.head()"
   ]
  },
  {
   "cell_type": "code",
   "execution_count": 117,
   "metadata": {},
   "outputs": [],
   "source": [
    "from sklearn.model_selection import train_test_split\n",
    "Xs_train,Xs_test, ys_train, ys_test = train_test_split(emails_subject.iloc[:,:-1],emails_subject['CLASS'],test_size=0.2, random_state=0)\n",
    "Xb_train,Xb_test, yb_train, yb_test = train_test_split(emails_body.iloc[:,:-1],emails_body['CLASS'],test_size=0.2, random_state=0)"
   ]
  },
  {
   "cell_type": "markdown",
   "metadata": {},
   "source": [
    "# Self - Implement with laplas smoothing k = 1"
   ]
  },
  {
   "cell_type": "code",
   "execution_count": 118,
   "metadata": {},
   "outputs": [],
   "source": [
    "import numpy as np\n",
    "def Naive_Bayes_Classifier(X_train, y_train,k=1):\n",
    "    words_dict = X_train.columns.values\n",
    "    Class = y_train.name\n",
    "    prob_0 = {}\n",
    "    prob_1 = {}\n",
    "    train_data = X_train.join(y_train)\n",
    "    for word in words_dict:\n",
    "        countX0, countX1 = train_data.loc[:,[word,Class]].groupby(Class).sum().values\n",
    "        prob_0[word] = (countX0[0]+k)/(train_data.shape[0]+np.unique(ys_train).shape[0]*k)\n",
    "        prob_1[word] = (countX1[0]+k)/(train_data.shape[0]+np.unique(ys_train).shape[0]*k)\n",
    "        prob_n = k/(train_data.shape[0]+np.unique(ys_train).shape[0]*k)\n",
    "    return prob_0,prob_1,prob_n\n",
    "    \n",
    "def predict(X_train, y_train, X_test):\n",
    "    result = []\n",
    "    words_dict = X_train.columns.values\n",
    "    prob_0,prob_1,prob_n = Naive_Bayes_Classifier(X_train, y_train,k=1)\n",
    "    for i in range(X_test.shape[0]):\n",
    "        words = X_test.iloc[i][X_test.iloc[i] != 0].index\n",
    "        pred_0 = 1\n",
    "        pred_1 = 1\n",
    "        for word in words:\n",
    "            if word in words_dict:\n",
    "                pred_0 = prob_0[word]*pred_0\n",
    "                pred_1 = prob_1[word]*pred_1\n",
    "            if word not in words_dict:\n",
    "                pred_0 = prob_n*pred_0\n",
    "                pred_1 = prob_n*pred_1\n",
    "        if pred_0 >= pred_1:\n",
    "            result.append(0)\n",
    "        else:\n",
    "            result.append(1)\n",
    "    return result"
   ]
  },
  {
   "cell_type": "code",
   "execution_count": 125,
   "metadata": {},
   "outputs": [],
   "source": [
    "ys_pred = predict(Xs_train, ys_train, Xs_test)"
   ]
  },
  {
   "cell_type": "code",
   "execution_count": 126,
   "metadata": {},
   "outputs": [
    {
     "name": "stdout",
     "output_type": "stream",
     "text": [
      "subject Precision 0.8\n",
      "subject Recall 1.0\n",
      "subject f1_score 0.888888888888889\n"
     ]
    }
   ],
   "source": [
    "from sklearn import metrics\n",
    "print(\"subject Precision\", metrics.precision_score(ys_test, ys_pred))\n",
    "print( \"subject Recall\", metrics.recall_score(ys_test, ys_pred))\n",
    "print( \"subject f1_score\", metrics.f1_score(ys_test, ys_pred))"
   ]
  },
  {
   "cell_type": "code",
   "execution_count": 127,
   "metadata": {},
   "outputs": [],
   "source": [
    "yb_pred = predict(Xb_train, yb_train, Xb_test)"
   ]
  },
  {
   "cell_type": "code",
   "execution_count": 128,
   "metadata": {},
   "outputs": [
    {
     "name": "stdout",
     "output_type": "stream",
     "text": [
      "body Precision 0.8571428571428571\n",
      "body Recall 0.75\n",
      "body f1_score 0.7999999999999999\n"
     ]
    }
   ],
   "source": [
    "from sklearn import metrics\n",
    "print(\"body Precision\", metrics.precision_score(yb_test, yb_pred))\n",
    "print( \"body Recall\", metrics.recall_score(yb_test, yb_pred))\n",
    "print( \"body f1_score\", metrics.f1_score(yb_test, yb_pred))"
   ]
  },
  {
   "cell_type": "markdown",
   "metadata": {},
   "source": [
    "# scikit-learn implementation"
   ]
  },
  {
   "cell_type": "code",
   "execution_count": 129,
   "metadata": {},
   "outputs": [],
   "source": [
    "from sklearn.naive_bayes import MultinomialNB"
   ]
  },
  {
   "cell_type": "code",
   "execution_count": 130,
   "metadata": {},
   "outputs": [
    {
     "data": {
      "text/plain": [
       "MultinomialNB(alpha=1.0, class_prior=None, fit_prior=True)"
      ]
     },
     "execution_count": 130,
     "metadata": {},
     "output_type": "execute_result"
    }
   ],
   "source": [
    "clf = MultinomialNB()\n",
    "clf.fit(Xs_train, ys_train)"
   ]
  },
  {
   "cell_type": "code",
   "execution_count": 132,
   "metadata": {},
   "outputs": [],
   "source": [
    "ys_pred = clf.predict(Xs_test)"
   ]
  },
  {
   "cell_type": "code",
   "execution_count": 133,
   "metadata": {},
   "outputs": [
    {
     "name": "stdout",
     "output_type": "stream",
     "text": [
      "subject Precision 0.8\n",
      "subject Recall 1.0\n",
      "subject f1_score 0.888888888888889\n"
     ]
    }
   ],
   "source": [
    "from sklearn import metrics\n",
    "print(\"subject Precision\", metrics.precision_score(ys_test, ys_pred))\n",
    "print( \"subject Recall\", metrics.recall_score(ys_test, ys_pred))\n",
    "print( \"subject f1_score\", metrics.f1_score(ys_test, ys_pred))"
   ]
  },
  {
   "cell_type": "code",
   "execution_count": 134,
   "metadata": {},
   "outputs": [
    {
     "data": {
      "text/plain": [
       "MultinomialNB(alpha=1.0, class_prior=None, fit_prior=True)"
      ]
     },
     "execution_count": 134,
     "metadata": {},
     "output_type": "execute_result"
    }
   ],
   "source": [
    "clf = MultinomialNB()\n",
    "clf.fit(Xb_train, yb_train)"
   ]
  },
  {
   "cell_type": "code",
   "execution_count": 135,
   "metadata": {},
   "outputs": [],
   "source": [
    "yb_pred = clf.predict(Xb_test)"
   ]
  },
  {
   "cell_type": "code",
   "execution_count": 136,
   "metadata": {},
   "outputs": [
    {
     "name": "stdout",
     "output_type": "stream",
     "text": [
      "body Precision 0.8\n",
      "body Recall 1.0\n",
      "body f1_score 0.888888888888889\n"
     ]
    }
   ],
   "source": [
    "from sklearn import metrics\n",
    "print(\"body Precision\", metrics.precision_score(yb_test, yb_pred))\n",
    "print( \"body Recall\", metrics.recall_score(yb_test, yb_pred))\n",
    "print( \"body f1_score\", metrics.f1_score(yb_test, yb_pred))"
   ]
  },
  {
   "cell_type": "code",
   "execution_count": null,
   "metadata": {},
   "outputs": [],
   "source": []
  }
 ],
 "metadata": {
  "kernelspec": {
   "display_name": "Python 3",
   "language": "python",
   "name": "python3"
  },
  "language_info": {
   "codemirror_mode": {
    "name": "ipython",
    "version": 3
   },
   "file_extension": ".py",
   "mimetype": "text/x-python",
   "name": "python",
   "nbconvert_exporter": "python",
   "pygments_lexer": "ipython3",
   "version": "3.6.5"
  }
 },
 "nbformat": 4,
 "nbformat_minor": 2
}
